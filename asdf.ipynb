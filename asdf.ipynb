{
 "cells": [
  {
   "cell_type": "markdown",
   "id": "e4142e68",
   "metadata": {},
   "source": [
    "I'm trying to figure out how to select the best combination of particle sizes to match a grain size distribution. \n",
    "I need to interpret the four possible $Y$ sets.\n",
    "I'm going to test several examples to see how the $Y$ sets change.\n"
   ]
  },
  {
   "cell_type": "code",
   "execution_count": 73,
   "id": "6665019f",
   "metadata": {},
   "outputs": [],
   "source": [
    "# Assume that Phi is {1, 1, 1}\n",
    "\n",
    "# X is a sorted array of random integers between 1 and 10, inclusive. Duplicates are not allowed.\n",
    "import random\n",
    "import numpy as np\n",
    "from gsd_lib import GSD"
   ]
  },
  {
   "cell_type": "code",
   "execution_count": 128,
   "id": "f8d94381",
   "metadata": {},
   "outputs": [
    {
     "name": "stdout",
     "output_type": "stream",
     "text": [
      "[ 6  8 12 13 16]\n"
     ]
    }
   ],
   "source": [
    "xg = np.asarray(sorted(random.sample(range(1, 21), 5)))\n",
    "\n",
    "print(xg)\n"
   ]
  },
  {
   "cell_type": "code",
   "execution_count": 133,
   "id": "073f8061",
   "metadata": {},
   "outputs": [
    {
     "name": "stdout",
     "output_type": "stream",
     "text": [
      "xg: [ 6  8 12 13 16]\n",
      "x11: [0.46153846 0.61538462 0.92307692 1.        ]\n",
      "x21: [0.61538462 0.92307692 1.         1.        ]\n",
      "x12: [0.375 0.5   0.75  1.   ]\n",
      "x22: [0.5    0.75   0.8125 1.    ]\n"
     ]
    }
   ],
   "source": [
    "di = 1\n",
    "x11 = xg[0:-1] / (xg[-2])\n",
    "x21 = xg[1:] / (xg[-2] )\n",
    "x12 = xg[0:-1] / (xg[-1] )\n",
    "x22 = xg[1:] / (xg[-1] )\n",
    "\n",
    "# make the last element of all x's equal to 1\n",
    "x11[-1] = 1\n",
    "x21[-1] = 1\n",
    "x12[-1] = 1\n",
    "x22[-1] = 1\n",
    "\n",
    "print(f\"xg: {xg}\")\n",
    "print(f\"x11: {x11}\")\n",
    "print(f\"x21: {x21}\")\n",
    "print(f\"x12: {x12}\")\n",
    "print(f\"x22: {x22}\")\n"
   ]
  },
  {
   "cell_type": "code",
   "execution_count": 134,
   "id": "01fec54d",
   "metadata": {},
   "outputs": [
    {
     "name": "stdout",
     "output_type": "stream",
     "text": [
      "[np.float64(5.0), np.float64(5.0), np.float64(2.0), np.float64(5.0)]\n"
     ]
    }
   ],
   "source": [
    "# an empty list to hold the GSD objects\n",
    "D = []\n",
    "N = []\n",
    "F = []\n",
    "for r in [x11, x21, x12, x22]:\n",
    "    weight = np.array([0.25, 0.25, 0.25, 0.25])\n",
    "    d = GSD(bins=r, contents=weight, cont_type=\"weights\", tol=0.0000001)\n",
    "    D.append(d)\n",
    "    N.append(d.order)  # sum(d.min_particles)\n",
    "    F.append(np.array([float(f) for f in d.nu_n]))\n",
    "\n",
    "\n",
    "print(N)"
   ]
  },
  {
   "cell_type": "code",
   "execution_count": 135,
   "id": "b02118a9",
   "metadata": {},
   "outputs": [
    {
     "name": "stdout",
     "output_type": "stream",
     "text": [
      "D[0].bins: [0.46153846 0.61538462 0.92307692 1.        ]\n",
      "D[0].nu: [Fraction(2197, 216) Fraction(2197, 512) Fraction(2197, 1728)\n",
      " Fraction(1, 1)]\n",
      "F[0]: [10.1712963   4.29101562  1.27141204  1.        ]\n",
      "mp/F[0]: [13824. 13824. 13824. 13824.]\n",
      "D[0].min_particles: [140608  59319  17576  13824]\n",
      "D[0].total: 231327\n",
      "\n",
      "D[1].bins: [0.61538462 0.92307692 1.         1.        ]\n",
      "D[1].nu: [Fraction(2197, 512) Fraction(2197, 1728) Fraction(1, 1) Fraction(1, 1)]\n",
      "F[1]: [4.29101562 1.27141204 1.         1.        ]\n",
      "mp/F[1]: [13824. 13824. 13824. 13824.]\n",
      "D[1].min_particles: [59319 17576 13824 13824]\n",
      "D[1].total: 104543\n",
      "\n",
      "D[2].bins: [0.375 0.5   0.75  1.   ]\n",
      "D[2].nu: [Fraction(512, 27) Fraction(8, 1) Fraction(64, 27) Fraction(1, 1)]\n",
      "F[2]: [18.96296296  8.          2.37037037  1.        ]\n",
      "mp/F[2]: [27. 27. 27. 27.]\n",
      "D[2].min_particles: [512 216  64  27]\n",
      "D[2].total: 819\n",
      "\n",
      "D[3].bins: [0.5    0.75   0.8125 1.    ]\n",
      "D[3].nu: [Fraction(8, 1) Fraction(64, 27) Fraction(4096, 2197) Fraction(1, 1)]\n",
      "F[3]: [8.         2.37037037 1.86436049 1.        ]\n",
      "mp/F[3]: [59319. 59319. 59319. 59319.]\n",
      "D[3].min_particles: [474552 140608 110592  59319]\n",
      "D[3].total: 785071\n",
      "\n"
     ]
    }
   ],
   "source": [
    "for i, d in enumerate(D):\n",
    "    print(f\"D[{i}].bins: {d.bins}\")\n",
    "    # print(f\"D[{i}].xi: {d.xi_n}\")\n",
    "    print(f\"D[{i}].nu: {d.nu_n}\")\n",
    "    print(f\"F[{i}]: {F[i]}\")\n",
    "    print(f\"mp/F[{i}]: {d.min_particles / F[i]}\")\n",
    "    print(f\"D[{i}].min_particles: {d.min_particles}\")\n",
    "    print(f\"D[{i}].total: {sum(d.min_particles)}\")\n",
    "    print()  # for better readability"
   ]
  },
  {
   "cell_type": "code",
   "execution_count": 148,
   "id": "0f2e8846",
   "metadata": {},
   "outputs": [
    {
     "name": "stdout",
     "output_type": "stream",
     "text": [
      "q: [10  4  2  2]\n",
      "v: [0.1  0.25 0.5  0.5 ]\n",
      "r: [ 7.42654213 10.0793684  12.69920842 12.69920842]\n"
     ]
    }
   ],
   "source": [
    "# [13, 3, 2, 1]\n",
    "# [43, 13, 3, 1]\n",
    "# 27 * (2.37037037-2). [5, 2, 1, 1]; [11, 5, 2, 1]\n",
    "q = np.array([10, 4, 2, 2])\n",
    "v = 1/q\n",
    "# r is the cubed root of v\n",
    "r = xg[-1] * v ** (1 / 3)\n",
    "print(f\"q: {q}\")\n",
    "print(f\"v: {v}\")\n",
    "print(f\"r: {r}\")"
   ]
  },
  {
   "cell_type": "code",
   "execution_count": 153,
   "id": "dce86e03",
   "metadata": {},
   "outputs": [
    {
     "data": {
      "text/plain": [
       "1.271412037037037"
      ]
     },
     "execution_count": 153,
     "metadata": {},
     "output_type": "execute_result"
    }
   ],
   "source": [
    "13**3 / 12**3"
   ]
  },
  {
   "cell_type": "code",
   "execution_count": 149,
   "id": "5d0d5f2a",
   "metadata": {},
   "outputs": [
    {
     "data": {
      "text/plain": [
       "array([ 6,  8, 12, 13, 16])"
      ]
     },
     "execution_count": 149,
     "metadata": {},
     "output_type": "execute_result"
    }
   ],
   "source": [
    "xg"
   ]
  },
  {
   "cell_type": "markdown",
   "id": "bad64010",
   "metadata": {},
   "source": [
    "OK, I think I've got something.\n",
    "\n",
    "If you choose the smallest integer between the fractional values of $Y$ for the same largest particle size, you will be able to find a size between the respective limits that will produce a distribution with that number of particles that matches the grain size distribution."
   ]
  },
  {
   "cell_type": "code",
   "execution_count": null,
   "id": "9129f2d5",
   "metadata": {},
   "outputs": [
    {
     "name": "stdout",
     "output_type": "stream",
     "text": [
      "216\n",
      "432\n",
      "648\n",
      "864\n"
     ]
    }
   ],
   "source": [
    "# 343/64, 343/125, 343/216, 343/343\n",
    "# [5.359375   2.744      1.58796296 1.        ]\n",
    "# 512/64, 512/125, 512/216, 512/512\n",
    "# [8.         4.096      2.37037037 1.        ]\n",
    "for i in range (1,5):\n",
    "    print(i*216)\n"
   ]
  },
  {
   "cell_type": "code",
   "execution_count": 99,
   "id": "98721b8d",
   "metadata": {},
   "outputs": [
    {
     "data": {
      "text/plain": [
       "5.359375"
      ]
     },
     "execution_count": 99,
     "metadata": {},
     "output_type": "execute_result"
    }
   ],
   "source": [
    "343 / 64\n"
   ]
  },
  {
   "cell_type": "code",
   "execution_count": null,
   "id": "ebc1829c",
   "metadata": {},
   "outputs": [],
   "source": []
  }
 ],
 "metadata": {
  "kernelspec": {
   "display_name": ".venv",
   "language": "python",
   "name": "python3"
  },
  "language_info": {
   "codemirror_mode": {
    "name": "ipython",
    "version": 3
   },
   "file_extension": ".py",
   "mimetype": "text/x-python",
   "name": "python",
   "nbconvert_exporter": "python",
   "pygments_lexer": "ipython3",
   "version": "3.13.3"
  }
 },
 "nbformat": 4,
 "nbformat_minor": 5
}
